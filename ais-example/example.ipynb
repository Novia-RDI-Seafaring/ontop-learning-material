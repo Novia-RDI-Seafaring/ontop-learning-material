{
 "cells": [
  {
   "cell_type": "code",
   "execution_count": 3,
   "metadata": {},
   "outputs": [],
   "source": [
    "from SPARQLWrapper import SPARQLWrapper, JSON\n",
    "import sparql_dataframe"
   ]
  },
  {
   "cell_type": "markdown",
   "metadata": {},
   "source": [
    "# SPARQL query from Ontop\n",
    "Make sure the ontop endpoint is running on `http://localhost:8080` by \n",
    "```bash\n",
    "docker-compose up\n",
    "```\n",
    "\n",
    "We define the a SPARQL query to fetch the ship `mmsi`, `name` from metadata and  `lat`, `lon` from location tables."
   ]
  },
  {
   "cell_type": "code",
   "execution_count": null,
   "metadata": {},
   "outputs": [],
   "source": [
    "endpoint = \"http://localhost:8080/sparql\"\n",
    "\n",
    "q = '''\n",
    "PREFIX : <http://example.org/voc#>\n",
    "PREFIX ais: <http://example.org/ais#>\n",
    "\n",
    "SELECT DISTINCT ?time ?mmsi ?name ?lat ?lon \n",
    "WHERE {\n",
    "  ?vessel a :Vessel ;\n",
    "          ais:mmsi ?mmsi ;\n",
    "          ais:hasMetadata ?metadata ;\n",
    "          ais:hasLocation ?location .\n",
    "          \n",
    "  ?metadata a ais:Metadata ;\n",
    "            ais:name ?name .\n",
    "\n",
    "  ?location a ais:Location ;\n",
    "            ais:lat ?lat ;\n",
    "\t        ais:lon ?lon ;\n",
    "\t        ais:time ?time .\n",
    "}\n",
    "'''\n",
    "df = sparql_dataframe.get(endpoint, q)"
   ]
  },
  {
   "cell_type": "markdown",
   "metadata": {},
   "source": [
    "Execute the query and get results as pandas dataframe.\n",
    "\n",
    "> ⚠️ **Note:** It may take a long time to retrieve the results! I don't understand why this is since it retrieves the results immeadiatele in Protege. "
   ]
  },
  {
   "cell_type": "code",
   "execution_count": 27,
   "metadata": {},
   "outputs": [
    {
     "name": "stdout",
     "output_type": "stream",
     "text": [
      " Number of unique MMSI: 673\n",
      "Number of rows: 86977\n"
     ]
    },
    {
     "data": {
      "text/html": [
       "<div>\n",
       "<style scoped>\n",
       "    .dataframe tbody tr th:only-of-type {\n",
       "        vertical-align: middle;\n",
       "    }\n",
       "\n",
       "    .dataframe tbody tr th {\n",
       "        vertical-align: top;\n",
       "    }\n",
       "\n",
       "    .dataframe thead th {\n",
       "        text-align: right;\n",
       "    }\n",
       "</style>\n",
       "<table border=\"1\" class=\"dataframe\">\n",
       "  <thead>\n",
       "    <tr style=\"text-align: right;\">\n",
       "      <th></th>\n",
       "      <th>time</th>\n",
       "      <th>mmsi</th>\n",
       "      <th>name</th>\n",
       "      <th>lat</th>\n",
       "      <th>lon</th>\n",
       "    </tr>\n",
       "  </thead>\n",
       "  <tbody>\n",
       "    <tr>\n",
       "      <th>0</th>\n",
       "      <td>2025-03-20T10:39:35+00:00</td>\n",
       "      <td>248020000</td>\n",
       "      <td>SOLA TS</td>\n",
       "      <td>57.316102</td>\n",
       "      <td>19.801485</td>\n",
       "    </tr>\n",
       "    <tr>\n",
       "      <th>1</th>\n",
       "      <td>2025-03-20T10:39:45+00:00</td>\n",
       "      <td>248020000</td>\n",
       "      <td>SOLA TS</td>\n",
       "      <td>57.316588</td>\n",
       "      <td>19.801865</td>\n",
       "    </tr>\n",
       "    <tr>\n",
       "      <th>2</th>\n",
       "      <td>2025-03-20T10:45:25+00:00</td>\n",
       "      <td>248020000</td>\n",
       "      <td>SOLA TS</td>\n",
       "      <td>57.334930</td>\n",
       "      <td>19.816527</td>\n",
       "    </tr>\n",
       "    <tr>\n",
       "      <th>3</th>\n",
       "      <td>2025-03-20T10:47:34+00:00</td>\n",
       "      <td>248020000</td>\n",
       "      <td>SOLA TS</td>\n",
       "      <td>57.341963</td>\n",
       "      <td>19.821962</td>\n",
       "    </tr>\n",
       "    <tr>\n",
       "      <th>4</th>\n",
       "      <td>2025-03-20T10:49:14+00:00</td>\n",
       "      <td>248020000</td>\n",
       "      <td>SOLA TS</td>\n",
       "      <td>57.347438</td>\n",
       "      <td>19.826182</td>\n",
       "    </tr>\n",
       "  </tbody>\n",
       "</table>\n",
       "</div>"
      ],
      "text/plain": [
       "                        time       mmsi     name        lat        lon\n",
       "0  2025-03-20T10:39:35+00:00  248020000  SOLA TS  57.316102  19.801485\n",
       "1  2025-03-20T10:39:45+00:00  248020000  SOLA TS  57.316588  19.801865\n",
       "2  2025-03-20T10:45:25+00:00  248020000  SOLA TS  57.334930  19.816527\n",
       "3  2025-03-20T10:47:34+00:00  248020000  SOLA TS  57.341963  19.821962\n",
       "4  2025-03-20T10:49:14+00:00  248020000  SOLA TS  57.347438  19.826182"
      ]
     },
     "execution_count": 27,
     "metadata": {},
     "output_type": "execute_result"
    }
   ],
   "source": [
    "print(f\" Number of unique MMSI: {df['mmsi'].nunique()}\")\n",
    "print(f\"Number of rows: {len(df)}\")\n",
    "df.head()"
   ]
  },
  {
   "cell_type": "markdown",
   "metadata": {},
   "source": [
    "Get latest data"
   ]
  },
  {
   "cell_type": "code",
   "execution_count": 28,
   "metadata": {},
   "outputs": [
    {
     "name": "stdout",
     "output_type": "stream",
     "text": [
      " Number of unique MMSI: 673\n",
      "Number of rows: 673\n"
     ]
    },
    {
     "data": {
      "text/html": [
       "<div>\n",
       "<style scoped>\n",
       "    .dataframe tbody tr th:only-of-type {\n",
       "        vertical-align: middle;\n",
       "    }\n",
       "\n",
       "    .dataframe tbody tr th {\n",
       "        vertical-align: top;\n",
       "    }\n",
       "\n",
       "    .dataframe thead th {\n",
       "        text-align: right;\n",
       "    }\n",
       "</style>\n",
       "<table border=\"1\" class=\"dataframe\">\n",
       "  <thead>\n",
       "    <tr style=\"text-align: right;\">\n",
       "      <th></th>\n",
       "      <th>time</th>\n",
       "      <th>mmsi</th>\n",
       "      <th>name</th>\n",
       "      <th>lat</th>\n",
       "      <th>lon</th>\n",
       "    </tr>\n",
       "  </thead>\n",
       "  <tbody>\n",
       "    <tr>\n",
       "      <th>2459</th>\n",
       "      <td>2025-03-20T11:00:23+00:00</td>\n",
       "      <td>111265581</td>\n",
       "      <td>LIFEGUARD 001</td>\n",
       "      <td>59.028358</td>\n",
       "      <td>18.222660</td>\n",
       "    </tr>\n",
       "    <tr>\n",
       "      <th>32248</th>\n",
       "      <td>2025-03-20T11:12:37+00:00</td>\n",
       "      <td>205553000</td>\n",
       "      <td>EXEMPLAR</td>\n",
       "      <td>60.014593</td>\n",
       "      <td>23.918980</td>\n",
       "    </tr>\n",
       "    <tr>\n",
       "      <th>15894</th>\n",
       "      <td>2025-03-20T11:13:46+00:00</td>\n",
       "      <td>209276000</td>\n",
       "      <td>ELBWAVE</td>\n",
       "      <td>59.664528</td>\n",
       "      <td>23.556338</td>\n",
       "    </tr>\n",
       "    <tr>\n",
       "      <th>9064</th>\n",
       "      <td>2025-03-20T11:13:45+00:00</td>\n",
       "      <td>209313000</td>\n",
       "      <td>RIX LAKE</td>\n",
       "      <td>59.457978</td>\n",
       "      <td>24.704607</td>\n",
       "    </tr>\n",
       "    <tr>\n",
       "      <th>9422</th>\n",
       "      <td>2025-03-20T11:12:30+00:00</td>\n",
       "      <td>209332000</td>\n",
       "      <td>RIX PACIFIC</td>\n",
       "      <td>59.458868</td>\n",
       "      <td>24.706328</td>\n",
       "    </tr>\n",
       "  </tbody>\n",
       "</table>\n",
       "</div>"
      ],
      "text/plain": [
       "                            time       mmsi           name        lat  \\\n",
       "2459   2025-03-20T11:00:23+00:00  111265581  LIFEGUARD 001  59.028358   \n",
       "32248  2025-03-20T11:12:37+00:00  205553000       EXEMPLAR  60.014593   \n",
       "15894  2025-03-20T11:13:46+00:00  209276000        ELBWAVE  59.664528   \n",
       "9064   2025-03-20T11:13:45+00:00  209313000       RIX LAKE  59.457978   \n",
       "9422   2025-03-20T11:12:30+00:00  209332000    RIX PACIFIC  59.458868   \n",
       "\n",
       "             lon  \n",
       "2459   18.222660  \n",
       "32248  23.918980  \n",
       "15894  23.556338  \n",
       "9064   24.704607  \n",
       "9422   24.706328  "
      ]
     },
     "execution_count": 28,
     "metadata": {},
     "output_type": "execute_result"
    }
   ],
   "source": [
    "latest_position = df.loc[df.groupby('mmsi')['time'].idxmax()]\n",
    "\n",
    "print(f\" Number of unique MMSI: {latest_position['mmsi'].nunique()}\")\n",
    "print(f\"Number of rows: {len(latest_position)}\")\n",
    "latest_position.head()"
   ]
  },
  {
   "cell_type": "code",
   "execution_count": null,
   "metadata": {},
   "outputs": [],
   "source": []
  }
 ],
 "metadata": {
  "kernelspec": {
   "display_name": "onto-env",
   "language": "python",
   "name": "python3"
  },
  "language_info": {
   "codemirror_mode": {
    "name": "ipython",
    "version": 3
   },
   "file_extension": ".py",
   "mimetype": "text/x-python",
   "name": "python",
   "nbconvert_exporter": "python",
   "pygments_lexer": "ipython3",
   "version": "3.11.11"
  }
 },
 "nbformat": 4,
 "nbformat_minor": 2
}
