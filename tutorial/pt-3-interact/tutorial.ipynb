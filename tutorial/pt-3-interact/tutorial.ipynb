{
 "cells": [
  {
   "cell_type": "code",
   "execution_count": 1,
   "metadata": {},
   "outputs": [],
   "source": [
    "from SPARQLWrapper import SPARQLWrapper, JSON\n",
    "import sparql_dataframe"
   ]
  },
  {
   "cell_type": "markdown",
   "metadata": {},
   "source": [
    "# SPARQL query from Ontop\n",
    "Make sure the ontop endpoint is running on `http://localhost:8080`.\n",
    "\n",
    "We define the a SPARQL query to fetch `lastName` and `firstName` for individuals with role `:PostDoc`."
   ]
  },
  {
   "cell_type": "code",
   "execution_count": 2,
   "metadata": {},
   "outputs": [],
   "source": [
    "endpoint = \"http://localhost:8080/sparql\"\n",
    "\n",
    "q = \"\"\"\n",
    "PREFIX : <http://example.org/voc#>\n",
    "PREFIX foaf: <http://xmlns.com/foaf/0.1/>\n",
    "\n",
    "SELECT DISTINCT ?prof ?lastName ?firstName\n",
    "WHERE {\n",
    "  ?prof a :PostDoc ;\n",
    "        foaf:lastName ?lastName ;\n",
    "        foaf:firstName ?firstName .\n",
    "}\n",
    "\"\"\""
   ]
  },
  {
   "cell_type": "markdown",
   "metadata": {},
   "source": [
    "Execute the query and get results as pandas dataframe"
   ]
  },
  {
   "cell_type": "code",
   "execution_count": 4,
   "metadata": {},
   "outputs": [
    {
     "data": {
      "text/html": [
       "<div>\n",
       "<style scoped>\n",
       "    .dataframe tbody tr th:only-of-type {\n",
       "        vertical-align: middle;\n",
       "    }\n",
       "\n",
       "    .dataframe tbody tr th {\n",
       "        vertical-align: top;\n",
       "    }\n",
       "\n",
       "    .dataframe thead th {\n",
       "        text-align: right;\n",
       "    }\n",
       "</style>\n",
       "<table border=\"1\" class=\"dataframe\">\n",
       "  <thead>\n",
       "    <tr style=\"text-align: right;\">\n",
       "      <th></th>\n",
       "      <th>prof</th>\n",
       "      <th>lastName</th>\n",
       "      <th>firstName</th>\n",
       "    </tr>\n",
       "  </thead>\n",
       "  <tbody>\n",
       "    <tr>\n",
       "      <th>0</th>\n",
       "      <td>http://example.org/voc#uni1/academic/2</td>\n",
       "      <td>May</td>\n",
       "      <td>Edward</td>\n",
       "    </tr>\n",
       "    <tr>\n",
       "      <th>1</th>\n",
       "      <td>http://example.org/voc#uni1/academic/11</td>\n",
       "      <td>Merry</td>\n",
       "      <td>Alvena</td>\n",
       "    </tr>\n",
       "    <tr>\n",
       "      <th>2</th>\n",
       "      <td>http://example.org/voc#uni2/person/5</td>\n",
       "      <td>Merry</td>\n",
       "      <td>Alvena</td>\n",
       "    </tr>\n",
       "  </tbody>\n",
       "</table>\n",
       "</div>"
      ],
      "text/plain": [
       "                                      prof lastName firstName\n",
       "0   http://example.org/voc#uni1/academic/2      May    Edward\n",
       "1  http://example.org/voc#uni1/academic/11    Merry    Alvena\n",
       "2     http://example.org/voc#uni2/person/5    Merry    Alvena"
      ]
     },
     "execution_count": 4,
     "metadata": {},
     "output_type": "execute_result"
    }
   ],
   "source": [
    "df = sparql_dataframe.get(endpoint, q)\n",
    "df.head()"
   ]
  },
  {
   "cell_type": "markdown",
   "metadata": {},
   "source": [
    "## NLP to SPARQL\n",
    "This is a test to see if gpt `o3-mini` is capable of generating a valid SPARQL query from natural language. The the following natural language query was used:\n",
    "\n",
    "```\n",
    "Generate a SPARQL query to get all Teachers who are Professors. List their first and last names as well as the name of the courses they teach. Take into account that data is stored in H2 database and might have limitations. Use the following ontology to ensure that the query is valid: {ONTOLOGY}\n",
    "```\n",
    "\n",
    "It generated the following SPARQL query:"
   ]
  },
  {
   "cell_type": "code",
   "execution_count": 5,
   "metadata": {},
   "outputs": [
    {
     "data": {
      "text/html": [
       "<div>\n",
       "<style scoped>\n",
       "    .dataframe tbody tr th:only-of-type {\n",
       "        vertical-align: middle;\n",
       "    }\n",
       "\n",
       "    .dataframe tbody tr th {\n",
       "        vertical-align: top;\n",
       "    }\n",
       "\n",
       "    .dataframe thead th {\n",
       "        text-align: right;\n",
       "    }\n",
       "</style>\n",
       "<table border=\"1\" class=\"dataframe\">\n",
       "  <thead>\n",
       "    <tr style=\"text-align: right;\">\n",
       "      <th></th>\n",
       "      <th>firstName</th>\n",
       "      <th>lastName</th>\n",
       "      <th>courseName</th>\n",
       "    </tr>\n",
       "  </thead>\n",
       "  <tbody>\n",
       "    <tr>\n",
       "      <th>0</th>\n",
       "      <td>Zlata</td>\n",
       "      <td>Richmal</td>\n",
       "      <td>NaN</td>\n",
       "    </tr>\n",
       "    <tr>\n",
       "      <th>1</th>\n",
       "      <td>Karine</td>\n",
       "      <td>Attilio</td>\n",
       "      <td>Theory of Computing</td>\n",
       "    </tr>\n",
       "    <tr>\n",
       "      <th>2</th>\n",
       "      <td>Priscilla</td>\n",
       "      <td>Hildr</td>\n",
       "      <td>Operating Systems</td>\n",
       "    </tr>\n",
       "    <tr>\n",
       "      <th>3</th>\n",
       "      <td>Anna</td>\n",
       "      <td>Chambers</td>\n",
       "      <td>Linear Algebra</td>\n",
       "    </tr>\n",
       "    <tr>\n",
       "      <th>4</th>\n",
       "      <td>Gerard</td>\n",
       "      <td>Cosimo</td>\n",
       "      <td>Research Methods</td>\n",
       "    </tr>\n",
       "  </tbody>\n",
       "</table>\n",
       "</div>"
      ],
      "text/plain": [
       "   firstName  lastName           courseName\n",
       "0      Zlata   Richmal                  NaN\n",
       "1     Karine   Attilio  Theory of Computing\n",
       "2  Priscilla     Hildr    Operating Systems\n",
       "3       Anna  Chambers       Linear Algebra\n",
       "4     Gerard    Cosimo     Research Methods"
      ]
     },
     "execution_count": 5,
     "metadata": {},
     "output_type": "execute_result"
    }
   ],
   "source": [
    "q_nlp = \"\"\"\n",
    "PREFIX : <http://example.org/voc#>\n",
    "PREFIX foaf: <http://xmlns.com/foaf/0.1/>\n",
    "\n",
    "SELECT ?firstName ?lastName ?courseName\n",
    "WHERE {\n",
    "  ?person a :Teacher .\n",
    "  ?person a :Professor .\n",
    "  ?person foaf:firstName ?firstName .\n",
    "  ?person foaf:lastName ?lastName .\n",
    "  OPTIONAL {\n",
    "    ?person :teaches ?course .\n",
    "    ?course :title ?courseName .\n",
    "  }\n",
    "}\n",
    "\"\"\"\n",
    "\n",
    "df_nlp = sparql_dataframe.get(endpoint, q_nlp)\n",
    "df_nlp.head()"
   ]
  }
 ],
 "metadata": {
  "kernelspec": {
   "display_name": "ont-env",
   "language": "python",
   "name": "python3"
  },
  "language_info": {
   "codemirror_mode": {
    "name": "ipython",
    "version": 3
   },
   "file_extension": ".py",
   "mimetype": "text/x-python",
   "name": "python",
   "nbconvert_exporter": "python",
   "pygments_lexer": "ipython3",
   "version": "3.11.11"
  }
 },
 "nbformat": 4,
 "nbformat_minor": 2
}
